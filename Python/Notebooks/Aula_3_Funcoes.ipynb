{
 "cells": [
  {
   "cell_type": "markdown",
   "metadata": {},
   "source": [
    "FGV - Escola de Matemática Aplicada\n",
    "==\n",
    "Introdução à Programação com a Linguagem Python\n",
    "--"
   ]
  },
  {
   "cell_type": "markdown",
   "metadata": {},
   "source": [
    "### Funções:"
   ]
  },
  {
   "cell_type": "code",
   "execution_count": 1,
   "metadata": {
    "collapsed": true
   },
   "outputs": [],
   "source": [
    "def faz_nada():\n",
    "    print('não fiz nada')"
   ]
  },
  {
   "cell_type": "code",
   "execution_count": 2,
   "metadata": {},
   "outputs": [
    {
     "name": "stdout",
     "output_type": "stream",
     "text": [
      "não fiz nada\n"
     ]
    }
   ],
   "source": [
    "faz_nada()"
   ]
  },
  {
   "cell_type": "code",
   "execution_count": 3,
   "metadata": {},
   "outputs": [
    {
     "name": "stdout",
     "output_type": "stream",
     "text": [
      "não fiz nada\n"
     ]
    }
   ],
   "source": [
    "x = faz_nada()"
   ]
  },
  {
   "cell_type": "code",
   "execution_count": 5,
   "metadata": {},
   "outputs": [
    {
     "name": "stdout",
     "output_type": "stream",
     "text": [
      "None\n"
     ]
    }
   ],
   "source": [
    "print(x)"
   ]
  },
  {
   "cell_type": "code",
   "execution_count": 2,
   "metadata": {},
   "outputs": [],
   "source": [
    "def soma(x,y):\n",
    "    return(x+y)"
   ]
  },
  {
   "cell_type": "code",
   "execution_count": 3,
   "metadata": {},
   "outputs": [
    {
     "data": {
      "text/plain": [
       "9"
      ]
     },
     "execution_count": 3,
     "metadata": {},
     "output_type": "execute_result"
    }
   ],
   "source": [
    "soma(3,6)"
   ]
  },
  {
   "cell_type": "code",
   "execution_count": 4,
   "metadata": {},
   "outputs": [
    {
     "name": "stdout",
     "output_type": "stream",
     "text": [
      "7\n"
     ]
    }
   ],
   "source": [
    "x = soma(2,5)\n",
    "print(x)"
   ]
  },
  {
   "cell_type": "code",
   "execution_count": 5,
   "metadata": {},
   "outputs": [],
   "source": [
    "def diz_se_e_par(numero):\n",
    "    if numero%2 == 0:\n",
    "        return 'Par'\n",
    "    else:\n",
    "        return 'Ímpar'"
   ]
  },
  {
   "cell_type": "code",
   "execution_count": 7,
   "metadata": {},
   "outputs": [
    {
     "name": "stdout",
     "output_type": "stream",
     "text": [
      "Par\n"
     ]
    }
   ],
   "source": [
    "resposta = diz_se_e_par(236)\n",
    "print(resposta)"
   ]
  },
  {
   "cell_type": "code",
   "execution_count": 8,
   "metadata": {},
   "outputs": [],
   "source": [
    "def soma2(*args):\n",
    "    print(args)\n",
    "    print('a soma é {}'.format(sum(args)))\n",
    "    return sum(args)"
   ]
  },
  {
   "cell_type": "code",
   "execution_count": 9,
   "metadata": {},
   "outputs": [
    {
     "name": "stdout",
     "output_type": "stream",
     "text": [
      "(23, 45, 18)\n",
      "a soma é 86\n"
     ]
    }
   ],
   "source": [
    "y = soma2(23, 45, 18)\n",
    "#print(y)"
   ]
  },
  {
   "cell_type": "code",
   "execution_count": 10,
   "metadata": {},
   "outputs": [],
   "source": [
    "def ordem(x,y,z):\n",
    "    if x >= y and x >= z:\n",
    "        print('o maior é {}'.format(x))\n",
    "        if y >= z:\n",
    "            print('o do meio é {}'.format(y))\n",
    "            print('o menor é {}'.format(z))\n",
    "        else:\n",
    "            print('o do meio é {}'.format(z))\n",
    "            print('o menor é {}'.format(y))\n",
    "    elif y >= x and y >= z:\n",
    "        print('o maior é {}'.format(y))\n",
    "        if x >= z:\n",
    "            print('o do meio é {}'.format(x))\n",
    "            print('o menor é {}'.format(z))\n",
    "        else:\n",
    "            print('o do meio é {}'.format(z))\n",
    "            print('o menor é {}'.format(x))\n",
    "    else:\n",
    "        print('o maior é {}'.format(z))\n",
    "        if x >= y:\n",
    "            print('o do meio é {}'.format(x))\n",
    "            print('o menor é {}'.format(y))\n",
    "        else:\n",
    "            print('o do meio é {}'.format(y))\n",
    "            print('o menor é {}'.format(x))"
   ]
  },
  {
   "cell_type": "code",
   "execution_count": 11,
   "metadata": {},
   "outputs": [
    {
     "name": "stdout",
     "output_type": "stream",
     "text": [
      "o maior é 98\n",
      "o do meio é 56\n",
      "o menor é 21\n"
     ]
    }
   ],
   "source": [
    "ordem(56,21,98)"
   ]
  },
  {
   "cell_type": "code",
   "execution_count": 12,
   "metadata": {},
   "outputs": [],
   "source": [
    "def compara(x,y):\n",
    "    if x >= y:\n",
    "        print('o do meio é {}'.format(x))\n",
    "        print('o menor é {}'.format(y))\n",
    "    else:\n",
    "        print('o do meio é {}'.format(y))\n",
    "        print('o menor é {}'.format(x))\n",
    "\n",
    "def ordem2(x,y,z):\n",
    "    if x >= y and x >= z:\n",
    "        print('o maior é {}'.format(x))\n",
    "        compara(y,z)\n",
    "    elif y >= x and y >= z:\n",
    "        print('o maior é {}'.format(y))\n",
    "        compara(x,z)\n",
    "    else:\n",
    "        print('o maior é {}'.format(z))\n",
    "        compara(x,y)"
   ]
  },
  {
   "cell_type": "code",
   "execution_count": 13,
   "metadata": {},
   "outputs": [],
   "source": [
    "def anuncia(x,y):\n",
    "    print('o do meio é {}'.format(x))\n",
    "    print('o menor é {}'.format(y))\n",
    "    \n",
    "#def anuncia(status,numero):\n",
    "#    print('O {} é {}'.format(status, numero))\n",
    "        \n",
    "def compara2(x,y):\n",
    "    if x >= y:\n",
    "        anuncia(x,y)\n",
    "    else:\n",
    "        anuncia(y,x)\n",
    "\n",
    "def ordem2(x,y,z):\n",
    "    if x >= y and x >= z:\n",
    "        print('o maior é {}'.format(x))\n",
    "        compara(y,z)\n",
    "    elif y >= x and y >= z:\n",
    "        print('o maior é {}'.format(y))\n",
    "        compara(x,z)\n",
    "    else:\n",
    "        print('o maior é {}'.format(z))\n",
    "        compara(x,y)"
   ]
  },
  {
   "cell_type": "code",
   "execution_count": 14,
   "metadata": {},
   "outputs": [
    {
     "name": "stdout",
     "output_type": "stream",
     "text": [
      "o maior é 98\n",
      "o do meio é 56\n",
      "o menor é 21\n"
     ]
    }
   ],
   "source": [
    "ordem2(56,21,98)"
   ]
  },
  {
   "cell_type": "code",
   "execution_count": 15,
   "metadata": {},
   "outputs": [],
   "source": [
    "def ordem3(x,y,z):\n",
    "    l = [x,y,z]\n",
    "    l.sort()\n",
    "    anuncia('maior',l[2])\n",
    "    anuncia('do meio',l[1])\n",
    "    anuncia('menor',l[0])"
   ]
  },
  {
   "cell_type": "code",
   "execution_count": 16,
   "metadata": {},
   "outputs": [
    {
     "name": "stdout",
     "output_type": "stream",
     "text": [
      "o maior é 98\n",
      "o do meio é 56\n",
      "o menor é 56\n"
     ]
    }
   ],
   "source": [
    "ordem2(56,56,98)"
   ]
  },
  {
   "cell_type": "code",
   "execution_count": 17,
   "metadata": {},
   "outputs": [],
   "source": [
    "#Cuidado com valores altos na função abaixo\n",
    "import time\n",
    "def fibo_recursivo(n):\n",
    "    if n <= 0:\n",
    "        print('número inválido')\n",
    "        return\n",
    "    if n == 1:\n",
    "        return 0\n",
    "    elif n == 2:\n",
    "        return 1\n",
    "    else:\n",
    "        #print(fibo_recursivo(n-1) + fibo_recursivo(n-2))\n",
    "        return fibo_recursivo(n-1) + fibo_recursivo(n-2)"
   ]
  },
  {
   "cell_type": "code",
   "execution_count": 24,
   "metadata": {},
   "outputs": [
    {
     "name": "stdout",
     "output_type": "stream",
     "text": [
      "0.0\n",
      "[500000, 250000, 125000, 62500, 31250, 15625, 46876, 23438, 11719, 35158, 17579, 52738, 26369, 79108, 39554, 19777, 59332, 29666, 14833, 44500, 22250, 11125, 33376, 16688, 8344, 4172, 2086, 1043, 3130, 1565, 4696, 2348, 1174, 587, 1762, 881, 2644, 1322, 661, 1984, 992, 496, 248, 124, 62, 31, 94, 47, 142, 71, 214, 107, 322, 161, 484, 242, 121, 364, 182, 91, 274, 137, 412, 206, 103, 310, 155, 466, 233, 700, 350, 175, 526, 263, 790, 395, 1186, 593, 1780, 890, 445, 1336, 668, 334, 167, 502, 251, 754, 377, 1132, 566, 283, 850, 425, 1276, 638, 319, 958, 479, 1438, 719, 2158, 1079, 3238, 1619, 4858, 2429, 7288, 3644, 1822, 911, 2734, 1367, 4102, 2051, 6154, 3077, 9232, 4616, 2308, 1154, 577, 1732, 866, 433, 1300, 650, 325, 976, 488, 244, 122, 61, 184, 92, 46, 23, 70, 35, 106, 53, 160, 80, 40, 20, 10, 5, 16, 8, 4, 2, 1]\n"
     ]
    }
   ],
   "source": [
    "#Minha versão para função que gera a sequencia de collatz\n",
    "def collatz_seq(k):\n",
    "    lista = []\n",
    "    while k != 1:\n",
    "        if k % 2 == 0:\n",
    "            k = k/2\n",
    "            lista.append(int(k))\n",
    "        else:\n",
    "            k = 3*k + 1\n",
    "            lista.append(int(k))\n",
    "    \n",
    "    return(lista)\n",
    "\n",
    "\n",
    "import time\n",
    "t0 = time.time()\n",
    "test = collatz_seq(1000000)\n",
    "tf = time.time() - t0\n",
    "print(tf)\n",
    "print(test)"
   ]
  },
  {
   "cell_type": "code",
   "execution_count": 40,
   "metadata": {},
   "outputs": [
    {
     "name": "stdout",
     "output_type": "stream",
     "text": [
      "A subtração entre 2 e 10 é -8\n"
     ]
    }
   ],
   "source": [
    "#Função que aplica a operação definida(soma, subtração, multiplicação ou subtração) aos valores 'a' e 'b'\n",
    "def operation(a, b, op):\n",
    "    if op == 'soma':\n",
    "        return(\"A soma entre {} e {} é {}\".format(a,b,a+b))\n",
    "    elif op == 'subtração':\n",
    "        return(\"A subtração entre {} e {} é {}\".format(a,b,a-b))\n",
    "    elif op == 'multiplicação':\n",
    "        return(\"A multiplicação entre {} e {} é {}\".format(a,b,a*b))\n",
    "    elif op == 'divisão':\n",
    "        return(\"A divisão entre {} e {} é {}\".format(a,b,a/b))\n",
    "    \n",
    "\n",
    "t1 = operation(2,10,'subtração')\n",
    "print(t1)"
   ]
  },
  {
   "cell_type": "code",
   "execution_count": 41,
   "metadata": {},
   "outputs": [
    {
     "name": "stdout",
     "output_type": "stream",
     "text": [
      "63245986\n",
      "49.691431283950806\n"
     ]
    }
   ],
   "source": [
    "t0 = time.time()\n",
    "print(fibo_recursivo(40))\n",
    "print(time.time() - t0)"
   ]
  },
  {
   "cell_type": "code",
   "execution_count": 42,
   "metadata": {},
   "outputs": [
    {
     "name": "stdout",
     "output_type": "stream",
     "text": [
      "1\n",
      "2\n",
      "3\n",
      "5\n",
      "8\n",
      "13\n",
      "21\n",
      "34\n",
      "55\n",
      "89\n",
      "144\n",
      "233\n",
      "377\n",
      "610\n",
      "987\n"
     ]
    }
   ],
   "source": [
    "x,y = 1,1\n",
    "while y < 1000:\n",
    "    x,y = y,x+y\n",
    "    print(x)"
   ]
  },
  {
   "cell_type": "code",
   "execution_count": 43,
   "metadata": {},
   "outputs": [],
   "source": [
    "def fibo_nao_recursivo(n):\n",
    "    fibo1 = 0\n",
    "    fibo2 = 1\n",
    "    for numero in range(1,n):\n",
    "        fibo2, fibo1 = fibo2+fibo1, fibo2\n",
    "        #print(fibo2)\n",
    "    return fibo1"
   ]
  },
  {
   "cell_type": "code",
   "execution_count": 44,
   "metadata": {},
   "outputs": [
    {
     "name": "stdout",
     "output_type": "stream",
     "text": [
      "108788617463475645289761992289049744844995705477812699099751202749393926359816304226\n",
      "0.0\n"
     ]
    }
   ],
   "source": [
    "t0 = time.time()\n",
    "print(fibo_nao_recursivo(400))\n",
    "print(time.time() - t0)"
   ]
  },
  {
   "cell_type": "code",
   "execution_count": 45,
   "metadata": {},
   "outputs": [],
   "source": [
    "def raiz(n,raiz=2):\n",
    "    return n ** (1./raiz)"
   ]
  },
  {
   "cell_type": "code",
   "execution_count": 46,
   "metadata": {},
   "outputs": [
    {
     "data": {
      "text/plain": [
       "3.0"
      ]
     },
     "execution_count": 46,
     "metadata": {},
     "output_type": "execute_result"
    }
   ],
   "source": [
    "raiz(27,3)"
   ]
  },
  {
   "cell_type": "code",
   "execution_count": 47,
   "metadata": {},
   "outputs": [
    {
     "data": {
      "text/plain": [
       "3.9999999999999996"
      ]
     },
     "execution_count": 47,
     "metadata": {},
     "output_type": "execute_result"
    }
   ],
   "source": [
    "raiz(64,3)"
   ]
  },
  {
   "cell_type": "code",
   "execution_count": 48,
   "metadata": {},
   "outputs": [],
   "source": [
    "import math"
   ]
  },
  {
   "cell_type": "code",
   "execution_count": 49,
   "metadata": {},
   "outputs": [],
   "source": [
    "def raiz2(n,raiz=2):\n",
    "    return math.pow(n,(1./raiz))"
   ]
  },
  {
   "cell_type": "code",
   "execution_count": 50,
   "metadata": {},
   "outputs": [
    {
     "data": {
      "text/plain": [
       "3.9999999999999996"
      ]
     },
     "execution_count": 50,
     "metadata": {},
     "output_type": "execute_result"
    }
   ],
   "source": [
    "raiz2(64,3)"
   ]
  },
  {
   "cell_type": "code",
   "execution_count": 51,
   "metadata": {},
   "outputs": [],
   "source": [
    "def qualquer(primeiro=10,segundo=11):\n",
    "    return segundo + primeiro"
   ]
  },
  {
   "cell_type": "code",
   "execution_count": 22,
   "metadata": {},
   "outputs": [
    {
     "name": "stdout",
     "output_type": "stream",
     "text": [
      "21\n"
     ]
    }
   ],
   "source": [
    "x = qualquer()\n",
    "print(x)"
   ]
  },
  {
   "cell_type": "code",
   "execution_count": 27,
   "metadata": {},
   "outputs": [
    {
     "name": "stdout",
     "output_type": "stream",
     "text": [
      "22\n"
     ]
    }
   ],
   "source": [
    "x = qualquer(11)\n",
    "print(x)"
   ]
  },
  {
   "cell_type": "code",
   "execution_count": 28,
   "metadata": {},
   "outputs": [
    {
     "data": {
      "text/plain": [
       "13"
      ]
     },
     "execution_count": 28,
     "metadata": {},
     "output_type": "execute_result"
    }
   ],
   "source": [
    "qualquer(2) # primeiro = 2 e segundo = 11"
   ]
  },
  {
   "cell_type": "code",
   "execution_count": 29,
   "metadata": {},
   "outputs": [
    {
     "data": {
      "text/plain": [
       "12"
      ]
     },
     "execution_count": 29,
     "metadata": {},
     "output_type": "execute_result"
    }
   ],
   "source": [
    "qualquer(segundo=2) #primeiro = 10 e segundo = 2"
   ]
  },
  {
   "cell_type": "code",
   "execution_count": 14,
   "metadata": {
    "collapsed": true
   },
   "outputs": [],
   "source": [
    "a, *b, c, d = (1,2,3,4,5,6,7,8,9)"
   ]
  },
  {
   "cell_type": "code",
   "execution_count": 52,
   "metadata": {},
   "outputs": [
    {
     "ename": "NameError",
     "evalue": "name 'a' is not defined",
     "output_type": "error",
     "traceback": [
      "\u001b[0;31m---------------------------------------------------------------------------\u001b[0m",
      "\u001b[0;31mNameError\u001b[0m                                 Traceback (most recent call last)",
      "\u001b[0;32m<ipython-input-52-18c182f0872c>\u001b[0m in \u001b[0;36m<module>\u001b[0;34m()\u001b[0m\n\u001b[0;32m----> 1\u001b[0;31m \u001b[0mprint\u001b[0m\u001b[1;33m(\u001b[0m\u001b[0ma\u001b[0m\u001b[1;33m)\u001b[0m\u001b[1;33m\u001b[0m\u001b[0m\n\u001b[0m\u001b[1;32m      2\u001b[0m \u001b[0mprint\u001b[0m\u001b[1;33m(\u001b[0m\u001b[0mb\u001b[0m\u001b[1;33m)\u001b[0m\u001b[1;33m\u001b[0m\u001b[0m\n\u001b[1;32m      3\u001b[0m \u001b[0mprint\u001b[0m\u001b[1;33m(\u001b[0m\u001b[0mc\u001b[0m\u001b[1;33m)\u001b[0m\u001b[1;33m\u001b[0m\u001b[0m\n\u001b[1;32m      4\u001b[0m \u001b[0mprint\u001b[0m\u001b[1;33m(\u001b[0m\u001b[0md\u001b[0m\u001b[1;33m)\u001b[0m\u001b[1;33m\u001b[0m\u001b[0m\n",
      "\u001b[0;31mNameError\u001b[0m: name 'a' is not defined"
     ]
    }
   ],
   "source": [
    "print(a)\n",
    "print(b)\n",
    "print(c)\n",
    "print(d)"
   ]
  },
  {
   "cell_type": "code",
   "execution_count": 53,
   "metadata": {},
   "outputs": [],
   "source": [
    "a, *b, c, d = (1,2,3,4,5,6,7,8,9)"
   ]
  },
  {
   "cell_type": "code",
   "execution_count": 39,
   "metadata": {
    "collapsed": true
   },
   "outputs": [],
   "source": [
    "def indefinido(*args):\n",
    "    for arg in args:\n",
    "        print(arg)"
   ]
  },
  {
   "cell_type": "code",
   "execution_count": 40,
   "metadata": {},
   "outputs": [
    {
     "name": "stdout",
     "output_type": "stream",
     "text": [
      "5\n",
      "1\n",
      "2\n",
      "string\n"
     ]
    }
   ],
   "source": [
    "indefinido(5,1,2,'string')"
   ]
  },
  {
   "cell_type": "code",
   "execution_count": 41,
   "metadata": {
    "collapsed": true
   },
   "outputs": [],
   "source": [
    "def soma_muitos(*args):\n",
    "    print(args)\n",
    "    return sum(args)"
   ]
  },
  {
   "cell_type": "code",
   "execution_count": 42,
   "metadata": {},
   "outputs": [
    {
     "name": "stdout",
     "output_type": "stream",
     "text": [
      "(1, 2, 3, 4, 5, 6, 7, 8, 9, 10)\n"
     ]
    },
    {
     "data": {
      "text/plain": [
       "55"
      ]
     },
     "execution_count": 42,
     "metadata": {},
     "output_type": "execute_result"
    }
   ],
   "source": [
    "soma_muitos(1,2,3,4,5,6,7,8,9,10)"
   ]
  },
  {
   "cell_type": "code",
   "execution_count": 56,
   "metadata": {
    "collapsed": true
   },
   "outputs": [],
   "source": [
    "def muitos_args(a,*args):\n",
    "    print(a)\n",
    "    print(args)"
   ]
  },
  {
   "cell_type": "code",
   "execution_count": 57,
   "metadata": {},
   "outputs": [
    {
     "name": "stdout",
     "output_type": "stream",
     "text": [
      "1\n",
      "(2, 3, 4, 5)\n"
     ]
    }
   ],
   "source": [
    "muitos_args(1,2,3,4,5)"
   ]
  },
  {
   "cell_type": "code",
   "execution_count": 58,
   "metadata": {
    "collapsed": true
   },
   "outputs": [],
   "source": [
    "def indefinido2(*args, **kwargs):\n",
    "    print(args)\n",
    "    print()\n",
    "    print(kwargs)"
   ]
  },
  {
   "cell_type": "code",
   "execution_count": 59,
   "metadata": {},
   "outputs": [
    {
     "name": "stdout",
     "output_type": "stream",
     "text": [
      "(2, 3, 4)\n",
      "\n",
      "{'nome': 'Renato', 'bairro': 'Botafogo', 'inst': 'FGV'}\n"
     ]
    }
   ],
   "source": [
    "indefinido2(2,3,4,nome='Renato',inst='FGV', bairro='Botafogo')"
   ]
  },
  {
   "cell_type": "code",
   "execution_count": 61,
   "metadata": {},
   "outputs": [
    {
     "name": "stdout",
     "output_type": "stream",
     "text": [
      "()\n",
      "\n",
      "{'mensagem': 'Hello World'}\n"
     ]
    }
   ],
   "source": [
    "indefinido2(mensagem='Hello World')"
   ]
  },
  {
   "cell_type": "code",
   "execution_count": 62,
   "metadata": {
    "collapsed": true
   },
   "outputs": [],
   "source": [
    "def recebe_notas(**kwargs):\n",
    "    for chave, valor in kwargs.items():\n",
    "        print('A chave é {} e o valor é {}'.format(chave,valor))\n",
    "    if 'Matematica' in kwargs:\n",
    "        print('A nota de Matemática é {}'.format(kwargs['Matematica']))\n",
    "    else:\n",
    "        print('Não foi passada a nota de Matemática')"
   ]
  },
  {
   "cell_type": "code",
   "execution_count": 63,
   "metadata": {},
   "outputs": [
    {
     "name": "stdout",
     "output_type": "stream",
     "text": [
      "A chave é História e o valor é 6\n",
      "A chave é Física e o valor é 9\n",
      "A chave é Portugues e o valor é 8\n",
      "Não foi passada a nota de Matemática\n"
     ]
    }
   ],
   "source": [
    "recebe_notas(Física=9,Portugues=8, História=6)"
   ]
  },
  {
   "cell_type": "code",
   "execution_count": 48,
   "metadata": {},
   "outputs": [
    {
     "name": "stdout",
     "output_type": "stream",
     "text": [
      "A chave é Historia e o valor é 8\n",
      "Não foi passada a nota de Matemática\n"
     ]
    }
   ],
   "source": [
    "recebe_notas(Historia=8)"
   ]
  },
  {
   "cell_type": "code",
   "execution_count": 83,
   "metadata": {
    "collapsed": true
   },
   "outputs": [],
   "source": [
    "def mostra_e_soma(*args):\n",
    "    for valor in args:\n",
    "        print('Valor:\\t{0:7.2f}'.format(valor))\n",
    "    print('_______________')\n",
    "    print('Soma:\\t{0:7.2f}'.format(sum(args)))"
   ]
  },
  {
   "cell_type": "code",
   "execution_count": 84,
   "metadata": {},
   "outputs": [
    {
     "name": "stdout",
     "output_type": "stream",
     "text": [
      "Valor:\t  23.00\n",
      "Valor:\t  45.00\n",
      "Valor:\t 124.00\n",
      "Valor:\t  34.60\n",
      "Valor:\t  98.24\n",
      "_______________\n",
      "Soma:\t 324.84\n"
     ]
    }
   ],
   "source": [
    "mostra_e_soma(23,45,124,34.6,98.236)"
   ]
  },
  {
   "cell_type": "code",
   "execution_count": 85,
   "metadata": {},
   "outputs": [
    {
     "name": "stdout",
     "output_type": "stream",
     "text": [
      "Entre com seu nome: Renato\n"
     ]
    }
   ],
   "source": [
    "nome = input('Entre com seu nome: ')"
   ]
  },
  {
   "cell_type": "code",
   "execution_count": 86,
   "metadata": {},
   "outputs": [
    {
     "data": {
      "text/plain": [
       "'Renato'"
      ]
     },
     "execution_count": 86,
     "metadata": {},
     "output_type": "execute_result"
    }
   ],
   "source": [
    "nome"
   ]
  },
  {
   "cell_type": "code",
   "execution_count": 109,
   "metadata": {},
   "outputs": [
    {
     "name": "stdout",
     "output_type": "stream",
     "text": [
      "Entre com a idade de seus pais 45 e 78\n"
     ]
    }
   ],
   "source": [
    "valores = input('Entre com a idade de seus pais ')"
   ]
  },
  {
   "cell_type": "code",
   "execution_count": 110,
   "metadata": {},
   "outputs": [
    {
     "name": "stdout",
     "output_type": "stream",
     "text": [
      "45 e 78\n"
     ]
    }
   ],
   "source": [
    "print(valores)"
   ]
  },
  {
   "cell_type": "code",
   "execution_count": 111,
   "metadata": {
    "collapsed": true
   },
   "outputs": [],
   "source": [
    "import re"
   ]
  },
  {
   "cell_type": "code",
   "execution_count": 112,
   "metadata": {
    "collapsed": true
   },
   "outputs": [],
   "source": [
    "saida = re.findall(r'[0-9]{2}',valores)"
   ]
  },
  {
   "cell_type": "code",
   "execution_count": 113,
   "metadata": {},
   "outputs": [
    {
     "name": "stdout",
     "output_type": "stream",
     "text": [
      "['45', '78']\n"
     ]
    }
   ],
   "source": [
    "print(saida)"
   ]
  },
  {
   "cell_type": "code",
   "execution_count": 114,
   "metadata": {
    "collapsed": true
   },
   "outputs": [],
   "source": [
    "def cordial():\n",
    "    nome = input('Qual o seu nome? ')\n",
    "    print('Como você vai hoje, {} ?'.format(nome))"
   ]
  },
  {
   "cell_type": "code",
   "execution_count": 115,
   "metadata": {},
   "outputs": [
    {
     "name": "stdout",
     "output_type": "stream",
     "text": [
      "Qual o seu nome? Renato\n",
      "Como você vai hoje, Renato ?\n"
     ]
    }
   ],
   "source": [
    "cordial()"
   ]
  },
  {
   "cell_type": "code",
   "execution_count": 122,
   "metadata": {
    "collapsed": true
   },
   "outputs": [],
   "source": [
    "def anuncia_tempo(tempo = 'chuvoso', umidade = 'alta'):\n",
    "    print('A umidade hoje está {}'.format(umidade))\n",
    "    print('O tempo hoje está {}'.format(tempo))"
   ]
  },
  {
   "cell_type": "code",
   "execution_count": 125,
   "metadata": {},
   "outputs": [
    {
     "name": "stdout",
     "output_type": "stream",
     "text": [
      "A umidade hoje está baixa\n",
      "O tempo hoje está chuvoso\n"
     ]
    }
   ],
   "source": [
    "anuncia_tempo(umidade = 'baixa')"
   ]
  },
  {
   "cell_type": "code",
   "execution_count": 126,
   "metadata": {},
   "outputs": [
    {
     "name": "stdout",
     "output_type": "stream",
     "text": [
      "A umidade hoje está alta\n",
      "O tempo hoje está chuvoso\n"
     ]
    }
   ],
   "source": [
    "anuncia_tempo()"
   ]
  },
  {
   "cell_type": "code",
   "execution_count": 127,
   "metadata": {
    "collapsed": true
   },
   "outputs": [],
   "source": [
    "def imc(massa=0, altura=0):\n",
    "    if massa == 0:\n",
    "        massa = input('Qual o seu peso? ')\n",
    "    if not str(massa).isdigit():\n",
    "        print('Valor Invalido')\n",
    "        imc()\n",
    "        return\n",
    "    if altura == 0:\n",
    "        altura = input('Qual a sua altura? ')\n",
    "    if not str(altura).isdigit():\n",
    "        print('Valor Invalido')\n",
    "        imc(massa=massa)\n",
    "        return\n",
    "    print('Seu IMC é {}'.format((float(massa)/(float(altura)/100)**2)))"
   ]
  },
  {
   "cell_type": "code",
   "execution_count": 128,
   "metadata": {},
   "outputs": [
    {
     "name": "stdout",
     "output_type": "stream",
     "text": [
      "Qual o seu peso? 73.5\n",
      "Valor Invalido\n",
      "Qual o seu peso? 74\n",
      "Qual a sua altura? 183\n",
      "Seu IMC é 22.096807907073963\n"
     ]
    }
   ],
   "source": [
    "imc()"
   ]
  },
  {
   "cell_type": "code",
   "execution_count": 129,
   "metadata": {
    "collapsed": true
   },
   "outputs": [],
   "source": [
    "def recebe_altura(x):\n",
    "    x = str(x)\n",
    "    print(x)\n",
    "    x = x.replace(',','.')\n",
    "    print(x)"
   ]
  },
  {
   "cell_type": "code",
   "execution_count": 130,
   "metadata": {},
   "outputs": [
    {
     "name": "stdout",
     "output_type": "stream",
     "text": [
      "1.87\n",
      "1.87\n"
     ]
    }
   ],
   "source": [
    "recebe_altura(1.87)"
   ]
  },
  {
   "cell_type": "code",
   "execution_count": 152,
   "metadata": {
    "collapsed": true
   },
   "outputs": [],
   "source": [
    "def acha_posicoes(texto,letra):\n",
    "    posicoes=[]\n",
    "    atual = 0\n",
    "    while not texto.find(letra) == -1:\n",
    "        posicao = atual + texto.find(letra)\n",
    "        #print(posicao)\n",
    "        acrescimo_posicao = texto.find(letra)\n",
    "        #print(acrescimo_posicao)\n",
    "        posicoes.append(posicao)\n",
    "        atual += acrescimo_posicao + 1\n",
    "        #print(atual)\n",
    "        texto = texto[acrescimo_posicao+1:]\n",
    "        #print(texto)\n",
    "    print(posicoes)"
   ]
  },
  {
   "cell_type": "code",
   "execution_count": 153,
   "metadata": {
    "collapsed": true
   },
   "outputs": [],
   "source": [
    "texto = '''\n",
    "Uma vez Flamengo, sempre Flamengo. Flamengo sempre eu hei de ser.\n",
    "É meu maior prazer, vê-lo brilhar, seja na terra, seja no mar.\n",
    "Vencer vencer vencer. Uma vez Flamengo, Flamengo até morrer\n",
    "\n",
    "'''"
   ]
  },
  {
   "cell_type": "code",
   "execution_count": 154,
   "metadata": {},
   "outputs": [
    {
     "name": "stdout",
     "output_type": "stream",
     "text": [
      "9\n",
      "9\n",
      "10\n",
      "lamengo, sempre Flamengo. Flamengo sempre eu hei de ser.\n",
      "É meu maior prazer, vê-lo brilhar, seja na terra, seja no mar.\n",
      "Vencer vencer vencer. Uma vez Flamengo, Flamengo até morrer\n",
      "\n",
      "26\n",
      "16\n",
      "27\n",
      "lamengo. Flamengo sempre eu hei de ser.\n",
      "É meu maior prazer, vê-lo brilhar, seja na terra, seja no mar.\n",
      "Vencer vencer vencer. Uma vez Flamengo, Flamengo até morrer\n",
      "\n",
      "36\n",
      "9\n",
      "37\n",
      "lamengo sempre eu hei de ser.\n",
      "É meu maior prazer, vê-lo brilhar, seja na terra, seja no mar.\n",
      "Vencer vencer vencer. Uma vez Flamengo, Flamengo até morrer\n",
      "\n",
      "160\n",
      "123\n",
      "161\n",
      "lamengo, Flamengo até morrer\n",
      "\n",
      "170\n",
      "9\n",
      "171\n",
      "lamengo até morrer\n",
      "\n",
      "[9, 26, 36, 160, 170]\n"
     ]
    }
   ],
   "source": [
    "acha_posicoes(texto,'Flamengo')"
   ]
  },
  {
   "cell_type": "code",
   "execution_count": 54,
   "metadata": {},
   "outputs": [
    {
     "name": "stdout",
     "output_type": "stream",
     "text": [
      "906609\n",
      "0.6901655197143555\n"
     ]
    }
   ],
   "source": [
    "#Minha função para achar palindromes.\n",
    "def palindromes():\n",
    "    seq = list(range(100, 1000))\n",
    "    lista = []\n",
    "    for i in seq:\n",
    "        for j in seq:\n",
    "            lista.append(str(i*j))\n",
    "    \n",
    "    lista2 = []\n",
    "    for n in range(len(lista)):\n",
    "        if lista[n] == lista[n][::-1]:\n",
    "            lista2.append(int(lista[n]))\n",
    "    \n",
    "    return(max(lista2))\n",
    "###########################################\n",
    "import time\n",
    "t0 = time.time()\n",
    "teste = palindromes()\n",
    "tf = time.time() - t0\n",
    "print(teste)\n",
    "print(tf)\n"
   ]
  },
  {
   "cell_type": "code",
   "execution_count": null,
   "metadata": {},
   "outputs": [],
   "source": []
  }
 ],
 "metadata": {
  "kernelspec": {
   "display_name": "Python 3",
   "language": "python",
   "name": "python3"
  },
  "language_info": {
   "codemirror_mode": {
    "name": "ipython",
    "version": 3
   },
   "file_extension": ".py",
   "mimetype": "text/x-python",
   "name": "python",
   "nbconvert_exporter": "python",
   "pygments_lexer": "ipython3",
   "version": "3.6.3"
  }
 },
 "nbformat": 4,
 "nbformat_minor": 1
}
