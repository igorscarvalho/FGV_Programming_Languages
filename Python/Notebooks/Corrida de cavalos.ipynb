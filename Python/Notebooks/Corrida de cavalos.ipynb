{
 "cells": [
  {
   "cell_type": "code",
   "execution_count": 1,
   "metadata": {},
   "outputs": [],
   "source": [
    "import random as rd\n",
    "from IPython.display import clear_output\n",
    "import time\n",
    "import sys"
   ]
  },
  {
   "cell_type": "code",
   "execution_count": 2,
   "metadata": {},
   "outputs": [],
   "source": [
    "# Corrida de cavalos\n",
    "\n",
    "def corrida_de_cavalos(tamanhoPista):\n",
    "    \n",
    "    # Largada\n",
    "    for i in reversed(range(1, 4)):\n",
    "        sys.stdout.write(\"\\r\" + \"Contagem regressiva: \" + str(i))\n",
    "        time.sleep(1)\n",
    "    sys.stdout.write(\"\\r\" + \"#### Dada a largada ####\\n\\n\")\n",
    "    time.sleep(1)\n",
    "    sys.stdout.write(\"\\r\" + \"Cavalo 1\\t Cavalo 2\\t Cavalo 3\\n\\n\")\n",
    "    time.sleep(1)\n",
    "    \n",
    "    # Corrida\n",
    "    c1, c2, c3 = 0, 0, 0\n",
    "    \n",
    "    while c1 < tamanhoPista and c2 < tamanhoPista and c3 < tamanhoPista:\n",
    "        \n",
    "        c1 = c1 + rd.sample(range(1, 20), 1)[0]\n",
    "        c2 = c2 + rd.sample(range(1, 20), 1)[0]\n",
    "        c3 = c3 + rd.sample(range(1, 20), 1)[0]\n",
    "    \n",
    "        if c1 < tamanhoPista and c2 < tamanhoPista and c3 < tamanhoPista:\n",
    "        \n",
    "            sys.stdout.write(\"{}\\t\\t {}\\t\\t {}\\n\".format(c1, c2, c3))\n",
    "            time.sleep(2)\n",
    "        \n",
    "        else:\n",
    "\n",
    "#            sys.stdout.write(\"{}\\t\\t {}\\t\\t {}\\n\".format([50 for i in [c1,] if [c1,][0] == max(c1,c2,c3)], [50 for i in [c2,] if [c2,][0] == max(c1,c2,c3)], [50 for i in [c3,] if [c3,][0] == max(c1,c2,c3)]))            \n",
    "#            sys.stdout.write(\"{}\\t\\t {}\\t\\t {}\\n\".format(c1, c2, c3))\n",
    "            sys.stdout.write(\"\\n\")\n",
    "            sys.stdout.write(\"{}\\t\\t {}\\t\\t {}\\n\".format([\"#1º\" if [c1,][0] == max(c1,c2,c3) else \"-\" for i in [c1,]][0], [\"#1º\" if [c2,][0] == max(c1,c2,c3) else \"-\" for i in [c2,]][0], [\"#1º\" if [c3,][0] == max(c1,c2,c3) else \"-\" for i in [c3,]][0]))\n"
   ]
  },
  {
   "cell_type": "code",
   "execution_count": 3,
   "metadata": {},
   "outputs": [
    {
     "name": "stdout",
     "output_type": "stream",
     "text": [
      "#### Dada a largada ####\n",
      "\n",
      "Cavalo 1\t Cavalo 2\t Cavalo 3\n",
      "\n",
      "19\t\t 16\t\t 13\n",
      "28\t\t 20\t\t 23\n",
      "45\t\t 30\t\t 42\n",
      "48\t\t 48\t\t 61\n",
      "67\t\t 53\t\t 72\n",
      "70\t\t 54\t\t 78\n",
      "82\t\t 55\t\t 91\n",
      "98\t\t 63\t\t 95\n",
      "107\t\t 79\t\t 104\n",
      "115\t\t 91\t\t 105\n",
      "126\t\t 106\t\t 106\n",
      "127\t\t 108\t\t 108\n",
      "\n",
      "#1º\t\t -\t\t -\n"
     ]
    }
   ],
   "source": [
    "corrida_de_cavalos(tamanhoPista = 130)"
   ]
  },
  {
   "cell_type": "code",
   "execution_count": 6,
   "metadata": {},
   "outputs": [],
   "source": [
    "import matplotlib.pyplot as plt\n",
    "import numpy as np"
   ]
  },
  {
   "cell_type": "code",
   "execution_count": 8,
   "metadata": {},
   "outputs": [],
   "source": [
    "fig=plt.figure()\n",
    "plt.axis([0,1000,0,1])\n",
    "\n",
    "i=0\n",
    "x=list()\n",
    "y=list()\n",
    "\n",
    "\n",
    "#while i <1000:\n",
    "#    temp_y=np.random.random()\n",
    "#    x.append(i)\n",
    "#    y.append(temp_y)\n",
    "#    plt.scatter(i,temp_y)\n",
    "#    i+=1\n",
    "#    plt.show()"
   ]
  },
  {
   "cell_type": "code",
   "execution_count": 10,
   "metadata": {},
   "outputs": [
    {
     "data": {
      "image/png": "[encoded data removed]",
      "text/plain": [
       "<matplotlib.figure.Figure at 0x28b284b5198>"
      ]
     },
     "metadata": {},
     "output_type": "display_data"
    }
   ],
   "source": [
    "plt.plot([1,2,3,4], [1,2,3,5],\"gs\")\n",
    "plt.show()"
   ]
  },
  {
   "cell_type": "code",
   "execution_count": null,
   "metadata": {},
   "outputs": [],
   "source": []
  }
 ],
 "metadata": {
  "kernelspec": {
   "display_name": "Python 3",
   "language": "python",
   "name": "python3"
  },
  "language_info": {
   "codemirror_mode": {
    "name": "ipython",
    "version": 3
   },
   "file_extension": ".py",
   "mimetype": "text/x-python",
   "name": "python",
   "nbconvert_exporter": "python",
   "pygments_lexer": "ipython3",
   "version": "3.6.3"
  }
 },
 "nbformat": 4,
 "nbformat_minor": 2
}
